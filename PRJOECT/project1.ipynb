{
 "cells": [
  {
   "cell_type": "code",
   "execution_count": 1,
   "id": "49484113",
   "metadata": {
    "scrolled": false
   },
   "outputs": [
    {
     "name": "stdout",
     "output_type": "stream",
     "text": [
      "Requirement already satisfied: graphviz in c:\\users\\cy\\anaconda3\\lib\\site-packages (0.20.1)\n",
      "Requirement already satisfied: pydotplus in c:\\users\\cy\\anaconda3\\lib\\site-packages (2.0.2)\n",
      "Requirement already satisfied: pyparsing>=2.0.1 in c:\\users\\cy\\anaconda3\\lib\\site-packages (from pydotplus) (3.0.9)\n",
      "Accuracy on training data: 0.866\n",
      "Accuracy on test data: 0.863\n",
      "              precision    recall  f1-score   support\n",
      "\n",
      "           0       0.88      0.95      0.91     12316\n",
      "           1       0.78      0.59      0.67      3802\n",
      "\n",
      "    accuracy                           0.86     16118\n",
      "   macro avg       0.83      0.77      0.79     16118\n",
      "weighted avg       0.86      0.86      0.86     16118\n",
      "\n"
     ]
    }
   ],
   "source": [
    "!pip install graphviz\n",
    "!pip install pydotplus\n",
    "import pandas as pd\n",
    "import matplotlib.pyplot as plt\n",
    "import graphviz \n",
    "import pydotplus\n",
    "from sklearn.preprocessing import StandardScaler, LabelEncoder\n",
    "from sklearn.model_selection import train_test_split\n",
    "from sklearn.tree import DecisionTreeClassifier\n",
    "from sklearn.metrics import classification_report\n",
    "from chefboost import Chefboost as chef \n",
    "from c45 import C45\n",
    "from sklearn.tree import plot_tree\n",
    "from pydotplus import graph_from_dot_data\n",
    "from sklearn import tree\n",
    "\n",
    "#讀取資料集\n",
    "df_read = pd.read_csv('adult.csv')\n",
    "\n",
    "df = df_read.copy()\n",
    "#補?值 以資料裡最常出現的值為值\n",
    "df['workclass'] = df['workclass'].replace('?', 'Private')\n",
    "df['occupation'] = df['occupation'].replace('?', 'Prof-specialty')\n",
    "df['native-country'] = df['native-country'].replace('?', 'United-States')\n",
    "df = df.drop(['education','fnlwgt'],axis=1)\n",
    "\n",
    "#標籤化\n",
    "df['marital-status'] = LabelEncoder().fit_transform(df['marital-status'])\n",
    "df['relationship'] = LabelEncoder().fit_transform(df['relationship'])\n",
    "df['occupation'] = LabelEncoder().fit_transform(df['occupation'])\n",
    "df['race'] = LabelEncoder().fit_transform(df['race'])\n",
    "df['native-country'] = LabelEncoder().fit_transform(df['native-country'])\n",
    "df['gender'] = LabelEncoder().fit_transform(df['gender'])\n",
    "#有序編碼\n",
    "workclass_map = {'Never-worked':0,'Without-pay':1,'Private':2,\n",
    "                 'Self-emp-not-inc':3,'Local-gov':4,'State-gov':5,\n",
    "                 'Federal-gov':6,'Self-emp-inc':7}\n",
    "income_map = {'<=50K':0,'>50K':1}\n",
    "df['workclass'] = df['workclass'].map(workclass_map)\n",
    "df['income'] = df['income'].map(income_map)\n",
    "\n",
    "\n",
    "\n",
    "#標準化\n",
    "scaler_x = StandardScaler().fit(df.drop(['income'],axis=1))\n",
    "X = scaler_x.transform(df.drop(['income'],axis=1))\n",
    "y = df['income']\n",
    "\n",
    "#切割資料集為訓練集&測試集\n",
    "X_train, X_test, y_train, y_test = train_test_split(X, y, test_size=0.33,random_state=42)\n",
    "\n",
    "#決策樹分類器\n",
    "Dtree = DecisionTreeClassifier(criterion='gini', max_depth=10 , max_leaf_nodes=200,random_state=42)\n",
    "\n",
    "\n",
    "model_Dtree = Dtree.fit(X_train, y_train) \n",
    "pred_Dtree = Dtree.predict(X_test)\n",
    "\n",
    "print(\"Accuracy on training data: {:,.3f}\".format(model_Dtree.score(X_train, y_train)))\n",
    "print(\"Accuracy on test data: {:,.3f}\".format(model_Dtree.score(X_test, y_test)))\n",
    "print(classification_report(y_test,pred_Dtree))\n",
    "report_Dtree=classification_report(y_test, pred_Dtree,output_dict=True)\n",
    "data_Dtree = pd.DataFrame(report_Dtree).transpose()\n",
    "writer = pd.ExcelWriter('report.xlsx')\n",
    "data_Dtree.to_excel(writer, sheet_name='Dtree')"
   ]
  },
  {
   "cell_type": "code",
   "execution_count": 2,
   "id": "6b4e98ab",
   "metadata": {},
   "outputs": [
    {
     "name": "stdout",
     "output_type": "stream",
     "text": [
      "Accuracy on training data: 0.975\n",
      "Accuracy on test data: 0.831\n",
      "              precision    recall  f1-score   support\n",
      "\n",
      "           0       0.89      0.89      0.89     12316\n",
      "           1       0.64      0.64      0.64      3802\n",
      "\n",
      "    accuracy                           0.83     16118\n",
      "   macro avg       0.77      0.76      0.76     16118\n",
      "weighted avg       0.83      0.83      0.83     16118\n",
      "\n"
     ]
    }
   ],
   "source": [
    "c45 =df.copy()\n",
    "c45 = C45()\n",
    "model_c45 = c45.fit(X_train,y_train)\n",
    "pred_c45 =  c45.predict(X_test)\n",
    "print(\"Accuracy on training data: {:,.3f}\".format(model_c45.score(X_train, y_train)))\n",
    "print(\"Accuracy on test data: {:,.3f}\".format(model_c45.score(X_test, y_test)))\n",
    "print(classification_report(y_test,pred_c45))\n",
    "report_c45=classification_report(y_test, pred_c45,output_dict=True)\n",
    "data_c45 = pd.DataFrame(report_c45).transpose()\n",
    "data_c45.to_excel(writer, sheet_name='C45')"
   ]
  },
  {
   "cell_type": "code",
   "execution_count": 3,
   "id": "e80cd32d",
   "metadata": {
    "scrolled": false
   },
   "outputs": [
    {
     "name": "stdout",
     "output_type": "stream",
     "text": [
      "Accuracy on training data: 0.868\n",
      "Accuracy on test data: 0.865\n",
      "              precision    recall  f1-score   support\n",
      "\n",
      "           0       0.88      0.95      0.91     12316\n",
      "           1       0.78      0.60      0.68      3802\n",
      "\n",
      "    accuracy                           0.87     16118\n",
      "   macro avg       0.83      0.77      0.80     16118\n",
      "weighted avg       0.86      0.87      0.86     16118\n",
      "\n"
     ]
    }
   ],
   "source": [
    "#C5.0\n",
    "c50 = DecisionTreeClassifier(criterion='entropy',max_leaf_nodes=200,random_state=42)\n",
    "model_c50 = c50.fit(X_train,y_train)\n",
    "pred_c50 = c50.predict(X_test)\n",
    "print(\"Accuracy on training data: {:,.3f}\".format(model_c50.score(X_train, y_train)))\n",
    "print(\"Accuracy on test data: {:,.3f}\".format(model_c50.score(X_test, y_test)))\n",
    "print(classification_report(y_test,pred_c50))\n",
    "report_c50=classification_report(y_test, pred_c50,output_dict=True)\n",
    "data_c50 = pd.DataFrame(report_c50).transpose()\n",
    "data_c50.to_excel(writer, sheet_name='C50')"
   ]
  },
  {
   "cell_type": "code",
   "execution_count": 4,
   "id": "6d6e96f5",
   "metadata": {
    "scrolled": true
   },
   "outputs": [
    {
     "name": "stdout",
     "output_type": "stream",
     "text": [
      "Accuracy on training data: 0.975\n",
      "Accuracy on test data: 0.825\n",
      "              precision    recall  f1-score   support\n",
      "\n",
      "           0       0.89      0.88      0.89     12316\n",
      "           1       0.63      0.63      0.63      3802\n",
      "\n",
      "    accuracy                           0.82     16118\n",
      "   macro avg       0.76      0.76      0.76     16118\n",
      "weighted avg       0.82      0.82      0.82     16118\n",
      "\n"
     ]
    }
   ],
   "source": [
    "#CART\n",
    "cart = DecisionTreeClassifier(criterion='gini',random_state=42)\n",
    "model_cart = cart.fit(X_train,y_train)\n",
    "pred_cart = cart.predict(X_test)\n",
    "print(\"Accuracy on training data: {:,.3f}\".format(model_cart.score(X_train, y_train)))\n",
    "print(\"Accuracy on test data: {:,.3f}\".format(model_cart.score(X_test, y_test)))\n",
    "print(classification_report(y_test,pred_cart))\n",
    "report_cart=classification_report(y_test, pred_cart,output_dict=True)\n",
    "data_cart = pd.DataFrame(report_cart).transpose()\n",
    "data_cart.to_excel(writer, sheet_name='CART')\n",
    "writer.close()"
   ]
  },
  {
   "cell_type": "code",
   "execution_count": 5,
   "id": "65da341a",
   "metadata": {
    "scrolled": true
   },
   "outputs": [
    {
     "name": "stdout",
     "output_type": "stream",
     "text": [
      "[INFO]:  8 CPU cores will be allocated in parallel running\n",
      "WARNING: You set the algorithm to  ID3  but the Decision column of your data set has non-object type.\n",
      "That's why, the algorithm is set to Regression to handle the data set.\n",
      "Regression  tree is going to be built...\n",
      "-------------------------\n",
      "finished in  80.79320859909058  seconds\n",
      "-------------------------\n",
      "Evaluate  train set\n",
      "-------------------------\n",
      "MAE:  0.15334479887528493\n",
      "MSE:  0.1528158825054939\n",
      "RMSE:  0.39091672067781125\n",
      "RAE:  0.7991520990806379\n",
      "RRSE:  0.9162574763279118\n",
      "Mean:  0.23928176569346055\n",
      "MAE / Mean:  64.08545107099056 %\n",
      "RMSE / Mean:  163.3708776533384 %\n"
     ]
    }
   ],
   "source": [
    "#ID3\n",
    "config_ID3 = {'algorithm': 'ID3'}\n",
    "model_ID3 = chef.fit(df, config = config_ID3, target_label = 'income')\n"
   ]
  },
  {
   "cell_type": "code",
   "execution_count": 6,
   "id": "7c059dfd",
   "metadata": {
    "scrolled": false
   },
   "outputs": [
    {
     "name": "stdout",
     "output_type": "stream",
     "text": [
      "------test--------\n",
      "Accuracy on training data: 0.975\n",
      "Accuracy on test data: 0.825\n",
      "------test1--------\n",
      "Accuracy on training data: 0.854\n",
      "Accuracy on test data: 0.860\n",
      "------test2--------\n",
      "Accuracy on training data: 0.850\n",
      "Accuracy on test data: 0.857\n",
      "------test3--------\n",
      "Accuracy on training data: 0.842\n",
      "Accuracy on test data: 0.849\n"
     ]
    }
   ],
   "source": [
    "#選定CART 比較參數\n",
    "test_cart = DecisionTreeClassifier(criterion='gini',random_state=42)\n",
    "test1_cart = DecisionTreeClassifier(criterion='gini', max_depth=6 , max_leaf_nodes=100,random_state=42)\n",
    "test2_cart = DecisionTreeClassifier(criterion='gini', max_depth=5 , max_leaf_nodes=100,random_state=42)\n",
    "test3_cart = DecisionTreeClassifier(criterion='gini', max_depth=6 , max_leaf_nodes=10,random_state=42)\n",
    "\n",
    "model_test = test_cart.fit(X_train,y_train)\n",
    "pred_test = test_cart.predict(X_test)\n",
    "\n",
    "model_test1 = test1_cart.fit(X_train,y_train)\n",
    "pred_test1 = test1_cart.predict(X_test)\n",
    "\n",
    "model_test2 = test2_cart.fit(X_train,y_train)\n",
    "pred_test2 = test2_cart.predict(X_test)\n",
    "\n",
    "model_test3 = test3_cart.fit(X_train,y_train)\n",
    "pred_test3 = test3_cart.predict(X_test)\n",
    "\n",
    "print(\"------test--------\")\n",
    "print(\"Accuracy on training data: {:,.3f}\".format(model_test.score(X_train, y_train)))\n",
    "print(\"Accuracy on test data: {:,.3f}\".format(model_test.score(X_test, y_test)))\n",
    "print(\"------test1--------\")\n",
    "print(\"Accuracy on training data: {:,.3f}\".format(model_test1.score(X_train, y_train)))\n",
    "print(\"Accuracy on test data: {:,.3f}\".format(model_test1.score(X_test, y_test)))\n",
    "print(\"------test2--------\")\n",
    "print(\"Accuracy on training data: {:,.3f}\".format(model_test2.score(X_train, y_train)))\n",
    "print(\"Accuracy on test data: {:,.3f}\".format(model_test2.score(X_test, y_test)))\n",
    "print(\"------test3--------\")\n",
    "print(\"Accuracy on training data: {:,.3f}\".format(model_test3.score(X_train, y_train)))\n",
    "print(\"Accuracy on test data: {:,.3f}\".format(model_test3.score(X_test, y_test)))"
   ]
  },
  {
   "cell_type": "code",
   "execution_count": 7,
   "id": "ed6b91cf",
   "metadata": {
    "scrolled": true
   },
   "outputs": [
    {
     "data": {
      "text/plain": [
       "True"
      ]
     },
     "execution_count": 7,
     "metadata": {},
     "output_type": "execute_result"
    },
    {
     "data": {
      "image/png": "[encoded data removed]",
      "text/plain": [
       "<Figure size 640x480 with 1 Axes>"
      ]
     },
     "metadata": {},
     "output_type": "display_data"
    }
   ],
   "source": [
    "#畫決策樹匯出pdf\n",
    "tree.plot_tree(test1_cart);\n",
    "test1_dot_data = tree.export_graphviz(test1_cart, out_file = None)\n",
    "test1_graph = pydotplus.graph_from_dot_data(test1_dot_data)\n",
    "test1_graph.write_pdf('test1Tree.pdf')\n",
    "\n",
    "tree.plot_tree(test2_cart);\n",
    "test2_dot_data = tree.export_graphviz(test2_cart, out_file = None)\n",
    "test2_graph = pydotplus.graph_from_dot_data(test2_dot_data)\n",
    "test2_graph.write_pdf('test2Tree.pdf')\n",
    "\n",
    "tree.plot_tree(test3_cart);\n",
    "test3_dot_data = tree.export_graphviz(test3_cart, out_file = None)\n",
    "test3_graph = pydotplus.graph_from_dot_data(test3_dot_data)\n",
    "test3_graph.write_pdf('test3Tree.pdf')\n"
   ]
  },
  {
   "cell_type": "code",
   "execution_count": null,
   "id": "55e5214a",
   "metadata": {},
   "outputs": [],
   "source": []
  }
 ],
 "metadata": {
  "kernelspec": {
   "display_name": "Python 3 (ipykernel)",
   "language": "python",
   "name": "python3"
  },
  "language_info": {
   "codemirror_mode": {
    "name": "ipython",
    "version": 3
   },
   "file_extension": ".py",
   "mimetype": "text/x-python",
   "name": "python",
   "nbconvert_exporter": "python",
   "pygments_lexer": "ipython3",
   "version": "3.11.5"
  }
 },
 "nbformat": 4,
 "nbformat_minor": 5
}
